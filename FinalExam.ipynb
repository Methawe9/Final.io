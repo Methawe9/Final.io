{
 "cells": [
  {
   "cell_type": "code",
   "execution_count": 6,
   "metadata": {},
   "outputs": [],
   "source": [
    "import os\n",
    "import cv2\n",
    "import numpy as np\n",
    "\n",
    "sift = cv2.SIFT_create()\n",
    "bf = cv2.BFMatcher()"
   ]
  },
  {
   "cell_type": "code",
   "execution_count": 8,
   "metadata": {},
   "outputs": [],
   "source": [
    "orginal_video_source = cv2.VideoCapture(\"videos/stereo/left_output.avi\")\n",
    "original_train_model = cv2.imread(\"images/final_exam/Templates/Template-1.png\")\n",
    "grayscale_train_model = cv2.cvtColor(original_train_model, cv2.COLOR_BGR2GRAY)\n",
    "\n",
    "x_coordinate, y_coordinate, z_coordinate = 0, 0, 0\n",
    "float_width, float_height = [float(sizes) for sizes in [0, 0]]\n",
    "\n",
    "video_capture = orginal_video_source\n",
    "if video_capture.isOpened():\n",
    "    float_width = video_capture.get(3)\n",
    "    float_height = video_capture.get(4)\n",
    "\n",
    "divide_width, divide_height = [float(divide) for divide in [float_width / 2, float_height / 2]]"
   ]
  },
  {
   "cell_type": "code",
   "execution_count": 9,
   "metadata": {},
   "outputs": [],
   "source": [
    "def objectDetection(train_image, grayscale_train_image, query_image, grayscale_query_image):\n",
    "    train_image_keypoints, train_image_descriptors = sift.detectAndCompute(grayscale_train_image, None)\n",
    "    query_image_keypoints, query_image_descriptors = sift.detectAndCompute(grayscale_query_image, None)\n",
    "\n",
    "    matches = bf.knnMatch(train_image_descriptors, query_image_descriptors, k=2)\n",
    "    good_matches = list()\n",
    "    good_matches_list = list()\n",
    "    for m, n in matches:\n",
    "        if m.distance < 0.7 * n.distance:\n",
    "            good_matches.append(m)\n",
    "            good_matches_list.append([m])\n",
    "\n",
    "    if len(good_matches) > 10:\n",
    "        src_pts = np.float32([ train_image_keypoints[m.queryIdx].pt for m in good_matches ]).reshape(-1, 1, 2)\n",
    "        dst_pts = np.float32([ query_image_keypoints[m.trainIdx].pt for m in good_matches ]).reshape(-1, 1, 2)\n",
    "\n",
    "        HOMOGRAPHY, inlier_masks = cv2.findHomography(src_pts, dst_pts, cv2.RANSAC, 0.7)\n",
    "\n",
    "        h, w = train_image.shape[:2]\n",
    "        train_image_box = np.float32([\n",
    "            [0, 0], [0, h-1], [w-1, h-1], [w-1, 0]\n",
    "        ]).reshape(-1, 1, 2)\n",
    "        train_image_transformed_box = cv2.perspectiveTransform(train_image_box, HOMOGRAPHY)\n",
    "\n",
    "        detected_image = cv2.polylines(query_image, [np.int32(train_image_transformed_box)], True, (255, 0, 255), 3, cv2.LINE_AA)\n",
    "        x_coordinate = train_image_transformed_box[0][0]\n",
    "        y_coordinate = train_image_transformed_box[1][0]\n",
    "\n",
    "        first_popric = train_image_transformed_box[0]\n",
    "        second_popric = train_image_transformed_box[1]\n",
    "        total_popric = second_popric[0] - first_popric[0]\n",
    "\n",
    "        cv2.putText(query_image, \"x: {}, y: {}, z: {}\".format(int(x_coordinate[0] - divide_width), int(y_coordinate[1] - divide_height), int(total_popric[1])), (50, 60), cv2.FONT_HERSHEY_COMPLEX, 1, (0, 255, 0), 2)\n",
    "\n",
    "        return detected_image\n",
    "    else:\n",
    "        print(\"Keypoints not enough ...\")\n",
    "        return query_image"
   ]
  },
  {
   "cell_type": "code",
   "execution_count": 10,
   "metadata": {},
   "outputs": [],
   "source": [
    "while video_capture.isOpened():\n",
    "    ret, query_image = video_capture.read()\n",
    "    grayscale_query_image = cv2.cvtColor(query_image, cv2.COLOR_BGR2GRAY)\n",
    "    if ret:\n",
    "        cv2.imshow(\"Object\", objectDetection(original_train_model, grayscale_train_model, query_image, grayscale_query_image))\n",
    "        if cv2.waitKey(int(1000 / 30)) & 0xFF == 27:\n",
    "            break\n",
    "\n",
    "video_capture.release()\n",
    "cv2.destroyAllWindows()"
   ]
  }
 ],
 "metadata": {
  "interpreter": {
   "hash": "247ab06e135bb35fa78c5eff31b2a9a0050dcb5fb773c2631d2a29ac689eeccb"
  },
  "kernelspec": {
   "display_name": "Python 3.9.7 64-bit",
   "language": "python",
   "name": "python3"
  },
  "language_info": {
   "codemirror_mode": {
    "name": "ipython",
    "version": 3
   },
   "file_extension": ".py",
   "mimetype": "text/x-python",
   "name": "python",
   "nbconvert_exporter": "python",
   "pygments_lexer": "ipython3",
   "version": "3.9.7"
  },
  "orig_nbformat": 4
 },
 "nbformat": 4,
 "nbformat_minor": 2
}
